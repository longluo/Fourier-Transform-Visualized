{
 "cells": [
  {
   "cell_type": "code",
   "execution_count": 2,
   "id": "d87c3d59",
   "metadata": {},
   "outputs": [],
   "source": [
    "import numpy as np\n",
    "import matplotlib.pyplot as plt"
   ]
  },
  {
   "cell_type": "code",
   "execution_count": null,
   "id": "eef32568",
   "metadata": {},
   "outputs": [],
   "source": [
    "X, Y = np.meshgrid(x, x)\n",
    "\n",
    "wavelength = 200\n",
    "angle = 0"
   ]
  },
  {
   "cell_type": "code",
   "execution_count": 3,
   "id": "e0fc9711",
   "metadata": {},
   "outputs": [
    {
     "data": {
      "image/png": "[encoded data removed]",
      "text/plain": [
       "<Figure size 432x288 with 1 Axes>"
      ]
     },
     "metadata": {
      "needs_background": "light"
     },
     "output_type": "display_data"
    }
   ],
   "source": [
    "x = np.arange(-500, 501, 1)\n",
    "\n",
    "grating = np.sin(2 * np.pi * X / wavelength)\n",
    "\n",
    "plt.set_cmap(\"gray\")\n",
    "plt.imshow(grating)\n",
    "plt.show()"
   ]
  },
  {
   "cell_type": "code",
   "execution_count": 4,
   "id": "b38131a2",
   "metadata": {},
   "outputs": [
    {
     "data": {
      "image/png": "[encoded data removed]",
      "text/plain": [
       "<Figure size 432x288 with 2 Axes>"
      ]
     },
     "metadata": {
      "needs_background": "light"
     },
     "output_type": "display_data"
    }
   ],
   "source": [
    "X, Y = np.meshgrid(x, x)\n",
    "\n",
    "wavelength = 200\n",
    "angle = 0\n",
    "grating = np.sin(\n",
    "    2*np.pi*(X*np.cos(angle) + Y*np.sin(angle)) / wavelength\n",
    ")\n",
    "\n",
    "plt.set_cmap(\"gray\")\n",
    "\n",
    "plt.subplot(121)\n",
    "plt.imshow(grating)\n",
    "\n",
    "# Calculate Fourier transform of grating\n",
    "ft = np.fft.ifftshift(grating)\n",
    "ft = np.fft.fft2(ft)\n",
    "ft = np.fft.fftshift(ft)\n",
    "\n",
    "plt.subplot(122)\n",
    "plt.imshow(abs(ft))\n",
    "plt.xlim([480, 520])\n",
    "plt.ylim([520, 480])  # Note, order is reversed for y\n",
    "plt.show()"
   ]
  },
  {
   "cell_type": "code",
   "execution_count": null,
   "id": "f25b7c70",
   "metadata": {},
   "outputs": [],
   "source": []
  }
 ],
 "metadata": {
  "kernelspec": {
   "display_name": "Python 3 (ipykernel)",
   "language": "python",
   "name": "python3"
  },
  "language_info": {
   "codemirror_mode": {
    "name": "ipython",
    "version": 3
   },
   "file_extension": ".py",
   "mimetype": "text/x-python",
   "name": "python",
   "nbconvert_exporter": "python",
   "pygments_lexer": "ipython3",
   "version": "3.7.8"
  }
 },
 "nbformat": 4,
 "nbformat_minor": 5
}
